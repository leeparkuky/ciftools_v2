{
 "cells": [
  {
   "cell_type": "markdown",
   "id": "cfc551a1",
   "metadata": {},
   "source": [
    "## `acs_sdoh`"
   ]
  },
  {
   "cell_type": "code",
   "execution_count": 1,
   "id": "7359ca67",
   "metadata": {},
   "outputs": [],
   "source": [
    "from CIFTools import acs_sdoh"
   ]
  },
  {
   "cell_type": "markdown",
   "id": "0a200dbc",
   "metadata": {},
   "source": [
    "Using `acs_sdoh`, you can not just download data for Cancer_InFocus but also for your own data project.   \n",
    "Let's first take a look at how to download acs_sdoh data.   \n",
    "`acs_sdoh` takes following arguments:   \n",
    "* year: int\n",
    "* state_fips : str, int or list of str (2 digit state fips code)\n",
    "* query_level : str (possible values: 'state','county', 'tract','county subregion', 'block', 'zip'\n",
    "* key : census key\n",
    "\n",
    "You can sign up for the census key at : https://api.census.gov/data/key_signup.html\n",
    "\n",
    "In this tutorial, we will use the sample key that may already be expired by the time you read the tutorial"
   ]
  },
  {
   "cell_type": "code",
   "execution_count": 2,
   "id": "0ab772e4",
   "metadata": {},
   "outputs": [],
   "source": [
    "key = # provide the census api user key"
   ]
  },
  {
   "cell_type": "code",
   "execution_count": 3,
   "id": "d80eee42",
   "metadata": {},
   "outputs": [],
   "source": [
    "sdoh = acs_sdoh(2019, '21', 'county', key = key)"
   ]
  },
  {
   "cell_type": "markdown",
   "id": "87e1da56",
   "metadata": {},
   "source": [
    "The function that you may call to scrap data for Cancer_InFocus is `cancer_infocus_download`.   \n",
    "This function does not require any arguement"
   ]
  },
  {
   "cell_type": "code",
   "execution_count": 4,
   "id": "46684cc7",
   "metadata": {},
   "outputs": [
    {
     "name": "stdout",
     "output_type": "stream",
     "text": [
      "{'year': 2019, 'state_fips': '21', 'query_level': 'county', 'acs_group': ['B27001', 'C27007'], 'acs_type': ''}\n",
      "{'year': 2019, 'state_fips': '21', 'query_level': 'county', 'acs_group': 'B25002', 'acs_type': ''}\n",
      "{'year': 2019, 'state_fips': '21', 'query_level': 'county', 'acs_group': 'B17026', 'acs_type': ''}\n",
      "{'year': 2019, 'state_fips': '21', 'query_level': 'county', 'acs_group': 'B08141', 'acs_type': ''}\n",
      "{'year': 2019, 'state_fips': '21', 'query_level': 'county', 'acs_group': 'B23025', 'acs_type': ''}\n",
      "{'year': 2019, 'state_fips': '21', 'query_level': 'county', 'acs_group': 'B19083', 'acs_type': ''}\n",
      "{'year': 2019, 'state_fips': '21', 'query_level': 'county', 'acs_group': 'B25070', 'acs_type': ''}\n",
      "{'year': 2019, 'state_fips': '21', 'query_level': 'county', 'acs_group': 'B25034', 'acs_type': ''}\n",
      "{'year': 2019, 'state_fips': '21', 'query_level': 'county', 'acs_group': 'B19058', 'acs_type': ''}\n",
      "{'year': 2019, 'state_fips': '21', 'query_level': 'county', 'acs_group': 'B15003', 'acs_type': ''}\n",
      "{'year': 2019, 'state_fips': '21', 'query_level': 'county', 'acs_group': 'B19013', 'acs_type': ''}\n",
      "{'year': 2019, 'state_fips': '21', 'query_level': 'county', 'acs_group': 'B01001', 'acs_type': ''}\n",
      "{'year': 2019, 'state_fips': '21', 'query_level': 'county', 'acs_group': 'B03002', 'acs_type': ''}\n"
     ]
    }
   ],
   "source": [
    "data_dictionary = sdoh.cancer_infocus_download()"
   ]
  },
  {
   "cell_type": "markdown",
   "id": "2a51eef8",
   "metadata": {},
   "source": [
    "`cancer_infocus_download()` returns a dictionary object with pandas dataframe as values as well as the corresponding dataset names as keys. "
   ]
  },
  {
   "cell_type": "code",
   "execution_count": 5,
   "id": "d5250805",
   "metadata": {
    "scrolled": true
   },
   "outputs": [
    {
     "data": {
      "text/plain": [
       "dict_keys(['insurance', 'vacancy', 'poverty', 'transportation', 'employment', 'gini_index', 'rent_to_income', 'houses_before_1960', 'public_assistance', 'education', 'income', 'demographic_age', 'demographic_race'])"
      ]
     },
     "execution_count": 5,
     "metadata": {},
     "output_type": "execute_result"
    }
   ],
   "source": [
    "data_dictionary.keys()"
   ]
  },
  {
   "cell_type": "code",
   "execution_count": 7,
   "id": "236becff",
   "metadata": {},
   "outputs": [
    {
     "data": {
      "text/html": [
       "<div>\n",
       "<style scoped>\n",
       "    .dataframe tbody tr th:only-of-type {\n",
       "        vertical-align: middle;\n",
       "    }\n",
       "\n",
       "    .dataframe tbody tr th {\n",
       "        vertical-align: top;\n",
       "    }\n",
       "\n",
       "    .dataframe thead th {\n",
       "        text-align: right;\n",
       "    }\n",
       "</style>\n",
       "<table border=\"1\" class=\"dataframe\">\n",
       "  <thead>\n",
       "    <tr style=\"text-align: right;\">\n",
       "      <th></th>\n",
       "      <th>FIPS</th>\n",
       "      <th>County</th>\n",
       "      <th>State</th>\n",
       "      <th>no_vehicle</th>\n",
       "      <th>two_or_more_vehicle</th>\n",
       "      <th>three_or_more_vehicle</th>\n",
       "    </tr>\n",
       "  </thead>\n",
       "  <tbody>\n",
       "    <tr>\n",
       "      <th>0</th>\n",
       "      <td>21079</td>\n",
       "      <td>Garrard County</td>\n",
       "      <td>Kentucky</td>\n",
       "      <td>0.026159</td>\n",
       "      <td>0.867958</td>\n",
       "      <td>0.472388</td>\n",
       "    </tr>\n",
       "    <tr>\n",
       "      <th>1</th>\n",
       "      <td>21037</td>\n",
       "      <td>Campbell County</td>\n",
       "      <td>Kentucky</td>\n",
       "      <td>0.026872</td>\n",
       "      <td>0.779089</td>\n",
       "      <td>0.334509</td>\n",
       "    </tr>\n",
       "    <tr>\n",
       "      <th>2</th>\n",
       "      <td>21063</td>\n",
       "      <td>Elliott County</td>\n",
       "      <td>Kentucky</td>\n",
       "      <td>0.009025</td>\n",
       "      <td>0.852587</td>\n",
       "      <td>0.324308</td>\n",
       "    </tr>\n",
       "    <tr>\n",
       "      <th>3</th>\n",
       "      <td>21123</td>\n",
       "      <td>Larue County</td>\n",
       "      <td>Kentucky</td>\n",
       "      <td>0.000801</td>\n",
       "      <td>0.856342</td>\n",
       "      <td>0.463805</td>\n",
       "    </tr>\n",
       "    <tr>\n",
       "      <th>4</th>\n",
       "      <td>21167</td>\n",
       "      <td>Mercer County</td>\n",
       "      <td>Kentucky</td>\n",
       "      <td>0.018970</td>\n",
       "      <td>0.824078</td>\n",
       "      <td>0.399004</td>\n",
       "    </tr>\n",
       "  </tbody>\n",
       "</table>\n",
       "</div>"
      ],
      "text/plain": [
       "    FIPS           County     State  no_vehicle  two_or_more_vehicle  \\\n",
       "0  21079   Garrard County  Kentucky    0.026159             0.867958   \n",
       "1  21037  Campbell County  Kentucky    0.026872             0.779089   \n",
       "2  21063   Elliott County  Kentucky    0.009025             0.852587   \n",
       "3  21123     Larue County  Kentucky    0.000801             0.856342   \n",
       "4  21167    Mercer County  Kentucky    0.018970             0.824078   \n",
       "\n",
       "   three_or_more_vehicle  \n",
       "0               0.472388  \n",
       "1               0.334509  \n",
       "2               0.324308  \n",
       "3               0.463805  \n",
       "4               0.399004  "
      ]
     },
     "execution_count": 7,
     "metadata": {},
     "output_type": "execute_result"
    }
   ],
   "source": [
    "data_dictionary['transportation'].head()"
   ]
  },
  {
   "cell_type": "markdown",
   "id": "d3f035d3",
   "metadata": {},
   "source": [
    "### Query other dataset"
   ]
  },
  {
   "cell_type": "markdown",
   "id": "4df5841e",
   "metadata": {},
   "source": [
    "To query other dataset, you may want to use `add_custom_table` function.   \n",
    "The function requires the following three arguments:\n",
    "* group_id: acs group id (e.g. B01001)\n",
    "    - you can provide multiple group ids in a list (e.g. \\[\"B01001\", \"C27007\"\\])\n",
    "    - However, all the acs groups must be in the same acs type\n",
    "* acs_type:\n",
    "    - '' : acs5\n",
    "    - 'profile' : acs5/profile\n",
    "    - 'subject' : acs5/subject\n",
    "    - for more information, please visit: https://api.census.gov/data.html\n",
    "* name: it will be a dictionary key for the dataset in the data_dictionary"
   ]
  },
  {
   "cell_type": "markdown",
   "id": "3771ff0d",
   "metadata": {},
   "source": [
    "Using the decorator of the `add_custom_table` you define how the dataframe to be organized since it is downloaded from the census.   \n",
    "In the following example, the function does not change any from the raw data."
   ]
  },
  {
   "cell_type": "code",
   "execution_count": 9,
   "id": "c346a51b",
   "metadata": {},
   "outputs": [],
   "source": [
    "sdoh.clean_functions()"
   ]
  },
  {
   "cell_type": "code",
   "execution_count": 10,
   "id": "d7d18042",
   "metadata": {},
   "outputs": [
    {
     "name": "stdout",
     "output_type": "stream",
     "text": [
      "{'year': 2019, 'state_fips': '21', 'query_level': 'county', 'acs_group': ['C27007', 'B27001'], 'acs_type': ''}\n"
     ]
    }
   ],
   "source": [
    "@sdoh.add_custom_table([\"C27007\", \"B27001\"], '', 'sample')\n",
    "def download_custom_data(df):\n",
    "    return df"
   ]
  },
  {
   "cell_type": "code",
   "execution_count": 11,
   "id": "a49bb7ce",
   "metadata": {},
   "outputs": [],
   "source": [
    "data_dictionary = sdoh.download_all()"
   ]
  },
  {
   "cell_type": "code",
   "execution_count": 13,
   "id": "cb74d5e4",
   "metadata": {},
   "outputs": [
    {
     "data": {
      "text/html": [
       "<div>\n",
       "<style scoped>\n",
       "    .dataframe tbody tr th:only-of-type {\n",
       "        vertical-align: middle;\n",
       "    }\n",
       "\n",
       "    .dataframe tbody tr th {\n",
       "        vertical-align: top;\n",
       "    }\n",
       "\n",
       "    .dataframe thead th {\n",
       "        text-align: right;\n",
       "    }\n",
       "</style>\n",
       "<table border=\"1\" class=\"dataframe\">\n",
       "  <thead>\n",
       "    <tr style=\"text-align: right;\">\n",
       "      <th></th>\n",
       "      <th>FIPS</th>\n",
       "      <th>County</th>\n",
       "      <th>State</th>\n",
       "      <th>B27001_001E</th>\n",
       "      <th>B27001_002E</th>\n",
       "      <th>B27001_003E</th>\n",
       "      <th>B27001_004E</th>\n",
       "      <th>B27001_005E</th>\n",
       "      <th>B27001_006E</th>\n",
       "      <th>B27001_007E</th>\n",
       "      <th>...</th>\n",
       "      <th>C27007_012E</th>\n",
       "      <th>C27007_013E</th>\n",
       "      <th>C27007_014E</th>\n",
       "      <th>C27007_015E</th>\n",
       "      <th>C27007_016E</th>\n",
       "      <th>C27007_017E</th>\n",
       "      <th>C27007_018E</th>\n",
       "      <th>C27007_019E</th>\n",
       "      <th>C27007_020E</th>\n",
       "      <th>C27007_021E</th>\n",
       "    </tr>\n",
       "  </thead>\n",
       "  <tbody>\n",
       "    <tr>\n",
       "      <th>0</th>\n",
       "      <td>21079</td>\n",
       "      <td>Garrard County</td>\n",
       "      <td>Kentucky</td>\n",
       "      <td>17342</td>\n",
       "      <td>8483</td>\n",
       "      <td>675</td>\n",
       "      <td>675</td>\n",
       "      <td>0</td>\n",
       "      <td>1490</td>\n",
       "      <td>1469</td>\n",
       "      <td>...</td>\n",
       "      <td>8859</td>\n",
       "      <td>1915</td>\n",
       "      <td>1053</td>\n",
       "      <td>862</td>\n",
       "      <td>5273</td>\n",
       "      <td>1474</td>\n",
       "      <td>3799</td>\n",
       "      <td>1671</td>\n",
       "      <td>231</td>\n",
       "      <td>1440</td>\n",
       "    </tr>\n",
       "    <tr>\n",
       "      <th>1</th>\n",
       "      <td>21037</td>\n",
       "      <td>Campbell County</td>\n",
       "      <td>Kentucky</td>\n",
       "      <td>91367</td>\n",
       "      <td>44451</td>\n",
       "      <td>3352</td>\n",
       "      <td>3274</td>\n",
       "      <td>78</td>\n",
       "      <td>7322</td>\n",
       "      <td>7219</td>\n",
       "      <td>...</td>\n",
       "      <td>46916</td>\n",
       "      <td>10593</td>\n",
       "      <td>2835</td>\n",
       "      <td>7758</td>\n",
       "      <td>28694</td>\n",
       "      <td>4183</td>\n",
       "      <td>24511</td>\n",
       "      <td>7629</td>\n",
       "      <td>1152</td>\n",
       "      <td>6477</td>\n",
       "    </tr>\n",
       "    <tr>\n",
       "      <th>2</th>\n",
       "      <td>21063</td>\n",
       "      <td>Elliott County</td>\n",
       "      <td>Kentucky</td>\n",
       "      <td>5971</td>\n",
       "      <td>2759</td>\n",
       "      <td>220</td>\n",
       "      <td>220</td>\n",
       "      <td>0</td>\n",
       "      <td>545</td>\n",
       "      <td>538</td>\n",
       "      <td>...</td>\n",
       "      <td>3212</td>\n",
       "      <td>694</td>\n",
       "      <td>436</td>\n",
       "      <td>258</td>\n",
       "      <td>1807</td>\n",
       "      <td>695</td>\n",
       "      <td>1112</td>\n",
       "      <td>711</td>\n",
       "      <td>140</td>\n",
       "      <td>571</td>\n",
       "    </tr>\n",
       "    <tr>\n",
       "      <th>3</th>\n",
       "      <td>21123</td>\n",
       "      <td>Larue County</td>\n",
       "      <td>Kentucky</td>\n",
       "      <td>13912</td>\n",
       "      <td>6809</td>\n",
       "      <td>457</td>\n",
       "      <td>457</td>\n",
       "      <td>0</td>\n",
       "      <td>1159</td>\n",
       "      <td>1129</td>\n",
       "      <td>...</td>\n",
       "      <td>7103</td>\n",
       "      <td>1719</td>\n",
       "      <td>931</td>\n",
       "      <td>788</td>\n",
       "      <td>4107</td>\n",
       "      <td>1494</td>\n",
       "      <td>2613</td>\n",
       "      <td>1277</td>\n",
       "      <td>218</td>\n",
       "      <td>1059</td>\n",
       "    </tr>\n",
       "    <tr>\n",
       "      <th>4</th>\n",
       "      <td>21167</td>\n",
       "      <td>Mercer County</td>\n",
       "      <td>Kentucky</td>\n",
       "      <td>21412</td>\n",
       "      <td>10535</td>\n",
       "      <td>814</td>\n",
       "      <td>790</td>\n",
       "      <td>24</td>\n",
       "      <td>1812</td>\n",
       "      <td>1743</td>\n",
       "      <td>...</td>\n",
       "      <td>10877</td>\n",
       "      <td>2319</td>\n",
       "      <td>880</td>\n",
       "      <td>1439</td>\n",
       "      <td>6371</td>\n",
       "      <td>1541</td>\n",
       "      <td>4830</td>\n",
       "      <td>2187</td>\n",
       "      <td>275</td>\n",
       "      <td>1912</td>\n",
       "    </tr>\n",
       "  </tbody>\n",
       "</table>\n",
       "<p>5 rows × 81 columns</p>\n",
       "</div>"
      ],
      "text/plain": [
       "    FIPS           County     State B27001_001E B27001_002E B27001_003E  \\\n",
       "0  21079   Garrard County  Kentucky       17342        8483         675   \n",
       "1  21037  Campbell County  Kentucky       91367       44451        3352   \n",
       "2  21063   Elliott County  Kentucky        5971        2759         220   \n",
       "3  21123     Larue County  Kentucky       13912        6809         457   \n",
       "4  21167    Mercer County  Kentucky       21412       10535         814   \n",
       "\n",
       "  B27001_004E B27001_005E B27001_006E B27001_007E  ... C27007_012E  \\\n",
       "0         675           0        1490        1469  ...        8859   \n",
       "1        3274          78        7322        7219  ...       46916   \n",
       "2         220           0         545         538  ...        3212   \n",
       "3         457           0        1159        1129  ...        7103   \n",
       "4         790          24        1812        1743  ...       10877   \n",
       "\n",
       "  C27007_013E C27007_014E C27007_015E C27007_016E C27007_017E C27007_018E  \\\n",
       "0        1915        1053         862        5273        1474        3799   \n",
       "1       10593        2835        7758       28694        4183       24511   \n",
       "2         694         436         258        1807         695        1112   \n",
       "3        1719         931         788        4107        1494        2613   \n",
       "4        2319         880        1439        6371        1541        4830   \n",
       "\n",
       "  C27007_019E C27007_020E C27007_021E  \n",
       "0        1671         231        1440  \n",
       "1        7629        1152        6477  \n",
       "2         711         140         571  \n",
       "3        1277         218        1059  \n",
       "4        2187         275        1912  \n",
       "\n",
       "[5 rows x 81 columns]"
      ]
     },
     "execution_count": 13,
     "metadata": {},
     "output_type": "execute_result"
    }
   ],
   "source": [
    "data_dictionary['sample'].head()"
   ]
  },
  {
   "cell_type": "markdown",
   "id": "bac6845d",
   "metadata": {},
   "source": [
    "### ACSConfig"
   ]
  },
  {
   "cell_type": "markdown",
   "id": "f2045311",
   "metadata": {},
   "source": [
    "When exploring an acs group, you may use `ACSConfig`.\n",
    "`ACSConfig` requires following arguements:\n",
    "* year : str or int\n",
    "* state_fips : a list of state fips or a single state fips as str\n",
    "* query_level: str\n",
    "* acs_group  : str\n",
    "* acs_type   : str (optional)"
   ]
  },
  {
   "cell_type": "code",
   "execution_count": 24,
   "id": "d410310e",
   "metadata": {},
   "outputs": [],
   "source": [
    "from CIF_Config import ACSConfig\n",
    "from pprint import pprint"
   ]
  },
  {
   "cell_type": "code",
   "execution_count": 19,
   "id": "89e7144a",
   "metadata": {},
   "outputs": [],
   "source": [
    "cfg = ACSConfig(2020, 21, 'tract', 'B15001', acs_type = '')"
   ]
  },
  {
   "cell_type": "code",
   "execution_count": 20,
   "id": "1c9a7715",
   "metadata": {},
   "outputs": [
    {
     "data": {
      "text/plain": [
       "ACSConfig(year=2020, state_fips=21, query_level='tract', acs_group='B15001', acs_type='')"
      ]
     },
     "execution_count": 20,
     "metadata": {},
     "output_type": "execute_result"
    }
   ],
   "source": [
    "cfg"
   ]
  },
  {
   "cell_type": "markdown",
   "id": "d99d185d",
   "metadata": {},
   "source": [
    "ACSConfig can provide both variables within the group and their labels.   \n",
    "In addition, it also provides a table explaining details of each variable."
   ]
  },
  {
   "cell_type": "code",
   "execution_count": 26,
   "id": "c3a2faf5",
   "metadata": {},
   "outputs": [
    {
     "name": "stdout",
     "output_type": "stream",
     "text": [
      "['B15001_001E', 'B15001_002E', 'B15001_003E', 'B15001_004E', 'B15001_005E', 'B15001_006E', 'B15001_007E', 'B15001_008E', 'B15001_009E', 'B15001_010E', 'B15001_011E', 'B15001_012E', 'B15001_013E', 'B15001_014E', 'B15001_015E', 'B15001_016E', 'B15001_017E', 'B15001_018E', 'B15001_019E', 'B15001_020E', 'B15001_021E', 'B15001_022E', 'B15001_023E', 'B15001_024E', 'B15001_025E', 'B15001_026E', 'B15001_027E', 'B15001_028E', 'B15001_029E', 'B15001_030E', 'B15001_031E', 'B15001_032E', 'B15001_033E', 'B15001_034E', 'B15001_035E', 'B15001_036E', 'B15001_037E', 'B15001_038E', 'B15001_039E', 'B15001_040E', 'B15001_041E', 'B15001_042E', 'B15001_043E', 'B15001_044E', 'B15001_045E', 'B15001_046E', 'B15001_047E', 'B15001_048E', 'B15001_049E', 'B15001_050E', 'B15001_051E', 'B15001_052E', 'B15001_053E', 'B15001_054E', 'B15001_055E', 'B15001_056E', 'B15001_057E', 'B15001_058E', 'B15001_059E', 'B15001_060E', 'B15001_061E', 'B15001_062E', 'B15001_063E', 'B15001_064E', 'B15001_065E', 'B15001_066E', 'B15001_067E', 'B15001_068E', 'B15001_069E', 'B15001_070E', 'B15001_071E', 'B15001_072E', 'B15001_073E', 'B15001_074E', 'B15001_075E', 'B15001_076E', 'B15001_077E', 'B15001_078E', 'B15001_079E', 'B15001_080E', 'B15001_081E', 'B15001_082E', 'B15001_083E']\n"
     ]
    }
   ],
   "source": [
    "print(cfg.variables)"
   ]
  },
  {
   "cell_type": "code",
   "execution_count": 27,
   "id": "ee3b69a4",
   "metadata": {},
   "outputs": [
    {
     "name": "stdout",
     "output_type": "stream",
     "text": [
      "['Total', 'Male', 'Male - 18 to 24 years', '18 to 24 years - Less than 9th grade', '18 to 24 years - 9th to 12th grade, no diploma', '18 to 24 years - High school graduate (includes equivalency)', '18 to 24 years - Some college, no degree', \"18 to 24 years - Associate's degree\", \"18 to 24 years - Bachelor's degree\", '18 to 24 years - Graduate or professional degree', 'Male - 25 to 34 years', '25 to 34 years - Less than 9th grade', '25 to 34 years - 9th to 12th grade, no diploma', '25 to 34 years - High school graduate (includes equivalency)', '25 to 34 years - Some college, no degree', \"25 to 34 years - Associate's degree\", \"25 to 34 years - Bachelor's degree\", '25 to 34 years - Graduate or professional degree', 'Male - 35 to 44 years', '35 to 44 years - Less than 9th grade', '35 to 44 years - 9th to 12th grade, no diploma', '35 to 44 years - High school graduate (includes equivalency)', '35 to 44 years - Some college, no degree', \"35 to 44 years - Associate's degree\", \"35 to 44 years - Bachelor's degree\", '35 to 44 years - Graduate or professional degree', 'Male - 45 to 64 years', '45 to 64 years - Less than 9th grade', '45 to 64 years - 9th to 12th grade, no diploma', '45 to 64 years - High school graduate (includes equivalency)', '45 to 64 years - Some college, no degree', \"45 to 64 years - Associate's degree\", \"45 to 64 years - Bachelor's degree\", '45 to 64 years - Graduate or professional degree', 'Male - 65 years and over', '65 years and over - Less than 9th grade', '65 years and over - 9th to 12th grade, no diploma', '65 years and over - High school graduate (includes equivalency)', '65 years and over - Some college, no degree', \"65 years and over - Associate's degree\", \"65 years and over - Bachelor's degree\", '65 years and over - Graduate or professional degree', 'Female', 'Female - 18 to 24 years', '18 to 24 years - Less than 9th grade', '18 to 24 years - 9th to 12th grade, no diploma', '18 to 24 years - High school graduate (includes equivalency)', '18 to 24 years - Some college, no degree', \"18 to 24 years - Associate's degree\", \"18 to 24 years - Bachelor's degree\", '18 to 24 years - Graduate or professional degree', 'Female - 25 to 34 years', '25 to 34 years - Less than 9th grade', '25 to 34 years - 9th to 12th grade, no diploma', '25 to 34 years - High school graduate (includes equivalency)', '25 to 34 years - Some college, no degree', \"25 to 34 years - Associate's degree\", \"25 to 34 years - Bachelor's degree\", '25 to 34 years - Graduate or professional degree', 'Female - 35 to 44 years', '35 to 44 years - Less than 9th grade', '35 to 44 years - 9th to 12th grade, no diploma', '35 to 44 years - High school graduate (includes equivalency)', '35 to 44 years - Some college, no degree', \"35 to 44 years - Associate's degree\", \"35 to 44 years - Bachelor's degree\", '35 to 44 years - Graduate or professional degree', 'Female - 45 to 64 years', '45 to 64 years - Less than 9th grade', '45 to 64 years - 9th to 12th grade, no diploma', '45 to 64 years - High school graduate (includes equivalency)', '45 to 64 years - Some college, no degree', \"45 to 64 years - Associate's degree\", \"45 to 64 years - Bachelor's degree\", '45 to 64 years - Graduate or professional degree', 'Female - 65 years and over', '65 years and over - Less than 9th grade', '65 years and over - 9th to 12th grade, no diploma', '65 years and over - High school graduate (includes equivalency)', '65 years and over - Some college, no degree', \"65 years and over - Associate's degree\", \"65 years and over - Bachelor's degree\", '65 years and over - Graduate or professional degree']\n"
     ]
    }
   ],
   "source": [
    "print(cfg.labels)"
   ]
  },
  {
   "cell_type": "code",
   "execution_count": 29,
   "id": "f5fc649a",
   "metadata": {},
   "outputs": [
    {
     "data": {
      "text/html": [
       "<div>\n",
       "<style scoped>\n",
       "    .dataframe tbody tr th:only-of-type {\n",
       "        vertical-align: middle;\n",
       "    }\n",
       "\n",
       "    .dataframe tbody tr th {\n",
       "        vertical-align: top;\n",
       "    }\n",
       "\n",
       "    .dataframe thead th {\n",
       "        text-align: right;\n",
       "    }\n",
       "</style>\n",
       "<table border=\"1\" class=\"dataframe\">\n",
       "  <thead>\n",
       "    <tr style=\"text-align: right;\">\n",
       "      <th></th>\n",
       "      <th>name</th>\n",
       "      <th>label</th>\n",
       "      <th>concept</th>\n",
       "    </tr>\n",
       "  </thead>\n",
       "  <tbody>\n",
       "    <tr>\n",
       "      <th>9131</th>\n",
       "      <td>B15001_014E</td>\n",
       "      <td>Estimate!!Total:!!Male:!!25 to 34 years:!!High...</td>\n",
       "      <td>SEX BY AGE BY EDUCATIONAL ATTAINMENT FOR THE P...</td>\n",
       "    </tr>\n",
       "    <tr>\n",
       "      <th>9133</th>\n",
       "      <td>B15001_015E</td>\n",
       "      <td>Estimate!!Total:!!Male:!!25 to 34 years:!!Some...</td>\n",
       "      <td>SEX BY AGE BY EDUCATIONAL ATTAINMENT FOR THE P...</td>\n",
       "    </tr>\n",
       "    <tr>\n",
       "      <th>9136</th>\n",
       "      <td>B15001_016E</td>\n",
       "      <td>Estimate!!Total:!!Male:!!25 to 34 years:!!Asso...</td>\n",
       "      <td>SEX BY AGE BY EDUCATIONAL ATTAINMENT FOR THE P...</td>\n",
       "    </tr>\n",
       "    <tr>\n",
       "      <th>9138</th>\n",
       "      <td>B15001_017E</td>\n",
       "      <td>Estimate!!Total:!!Male:!!25 to 34 years:!!Bach...</td>\n",
       "      <td>SEX BY AGE BY EDUCATIONAL ATTAINMENT FOR THE P...</td>\n",
       "    </tr>\n",
       "    <tr>\n",
       "      <th>9141</th>\n",
       "      <td>B15001_010E</td>\n",
       "      <td>Estimate!!Total:!!Male:!!18 to 24 years:!!Grad...</td>\n",
       "      <td>SEX BY AGE BY EDUCATIONAL ATTAINMENT FOR THE P...</td>\n",
       "    </tr>\n",
       "    <tr>\n",
       "      <th>...</th>\n",
       "      <td>...</td>\n",
       "      <td>...</td>\n",
       "      <td>...</td>\n",
       "    </tr>\n",
       "    <tr>\n",
       "      <th>18017</th>\n",
       "      <td>B15001_043E</td>\n",
       "      <td>Estimate!!Total:!!Female:</td>\n",
       "      <td>SEX BY AGE BY EDUCATIONAL ATTAINMENT FOR THE P...</td>\n",
       "    </tr>\n",
       "    <tr>\n",
       "      <th>18024</th>\n",
       "      <td>B15001_044E</td>\n",
       "      <td>Estimate!!Total:!!Female:!!18 to 24 years:</td>\n",
       "      <td>SEX BY AGE BY EDUCATIONAL ATTAINMENT FOR THE P...</td>\n",
       "    </tr>\n",
       "    <tr>\n",
       "      <th>18030</th>\n",
       "      <td>B15001_045E</td>\n",
       "      <td>Estimate!!Total:!!Female:!!18 to 24 years:!!Le...</td>\n",
       "      <td>SEX BY AGE BY EDUCATIONAL ATTAINMENT FOR THE P...</td>\n",
       "    </tr>\n",
       "    <tr>\n",
       "      <th>18046</th>\n",
       "      <td>B15001_040E</td>\n",
       "      <td>Estimate!!Total:!!Male:!!65 years and over:!!A...</td>\n",
       "      <td>SEX BY AGE BY EDUCATIONAL ATTAINMENT FOR THE P...</td>\n",
       "    </tr>\n",
       "    <tr>\n",
       "      <th>18055</th>\n",
       "      <td>B15001_041E</td>\n",
       "      <td>Estimate!!Total:!!Male:!!65 years and over:!!B...</td>\n",
       "      <td>SEX BY AGE BY EDUCATIONAL ATTAINMENT FOR THE P...</td>\n",
       "    </tr>\n",
       "  </tbody>\n",
       "</table>\n",
       "<p>83 rows × 3 columns</p>\n",
       "</div>"
      ],
      "text/plain": [
       "              name                                              label  \\\n",
       "9131   B15001_014E  Estimate!!Total:!!Male:!!25 to 34 years:!!High...   \n",
       "9133   B15001_015E  Estimate!!Total:!!Male:!!25 to 34 years:!!Some...   \n",
       "9136   B15001_016E  Estimate!!Total:!!Male:!!25 to 34 years:!!Asso...   \n",
       "9138   B15001_017E  Estimate!!Total:!!Male:!!25 to 34 years:!!Bach...   \n",
       "9141   B15001_010E  Estimate!!Total:!!Male:!!18 to 24 years:!!Grad...   \n",
       "...            ...                                                ...   \n",
       "18017  B15001_043E                          Estimate!!Total:!!Female:   \n",
       "18024  B15001_044E         Estimate!!Total:!!Female:!!18 to 24 years:   \n",
       "18030  B15001_045E  Estimate!!Total:!!Female:!!18 to 24 years:!!Le...   \n",
       "18046  B15001_040E  Estimate!!Total:!!Male:!!65 years and over:!!A...   \n",
       "18055  B15001_041E  Estimate!!Total:!!Male:!!65 years and over:!!B...   \n",
       "\n",
       "                                                 concept  \n",
       "9131   SEX BY AGE BY EDUCATIONAL ATTAINMENT FOR THE P...  \n",
       "9133   SEX BY AGE BY EDUCATIONAL ATTAINMENT FOR THE P...  \n",
       "9136   SEX BY AGE BY EDUCATIONAL ATTAINMENT FOR THE P...  \n",
       "9138   SEX BY AGE BY EDUCATIONAL ATTAINMENT FOR THE P...  \n",
       "9141   SEX BY AGE BY EDUCATIONAL ATTAINMENT FOR THE P...  \n",
       "...                                                  ...  \n",
       "18017  SEX BY AGE BY EDUCATIONAL ATTAINMENT FOR THE P...  \n",
       "18024  SEX BY AGE BY EDUCATIONAL ATTAINMENT FOR THE P...  \n",
       "18030  SEX BY AGE BY EDUCATIONAL ATTAINMENT FOR THE P...  \n",
       "18046  SEX BY AGE BY EDUCATIONAL ATTAINMENT FOR THE P...  \n",
       "18055  SEX BY AGE BY EDUCATIONAL ATTAINMENT FOR THE P...  \n",
       "\n",
       "[83 rows x 3 columns]"
      ]
     },
     "execution_count": 29,
     "metadata": {},
     "output_type": "execute_result"
    }
   ],
   "source": [
    "cfg.var_desc"
   ]
  },
  {
   "cell_type": "markdown",
   "id": "e5e45710",
   "metadata": {},
   "source": [
    "## Downloading facility data"
   ]
  },
  {
   "cell_type": "markdown",
   "id": "aae9fd3e",
   "metadata": {},
   "source": [
    "To download facility data, you simply need to use `gen_facility_data` function.   \n",
    "The fuction requires only one arguement:\n",
    "* location : str or List\\[str\\] (abbreviation(s) of state name(s))"
   ]
  },
  {
   "cell_type": "code",
   "execution_count": 1,
   "id": "cec55a9b",
   "metadata": {},
   "outputs": [],
   "source": [
    "from CIFTools import gen_facility_data"
   ]
  },
  {
   "cell_type": "code",
   "execution_count": null,
   "id": "df9052af",
   "metadata": {},
   "outputs": [],
   "source": [
    "facility_data = gen_facility_data(['KY','WV'])"
   ]
  },
  {
   "cell_type": "code",
   "execution_count": null,
   "id": "d2da59b9",
   "metadata": {},
   "outputs": [],
   "source": [
    "import pandas as pd\n",
    "all_facility = pd.concat(facility_data.values(), axis = 0).reset_index(drop = True)"
   ]
  },
  {
   "cell_type": "code",
   "execution_count": null,
   "id": "9f19bb60",
   "metadata": {},
   "outputs": [],
   "source": [
    "all_facility.head()"
   ]
  }
 ],
 "metadata": {
  "kernelspec": {
   "display_name": "Python 3 (ipykernel)",
   "language": "python",
   "name": "python3"
  },
  "language_info": {
   "codemirror_mode": {
    "name": "ipython",
    "version": 3
   },
   "file_extension": ".py",
   "mimetype": "text/x-python",
   "name": "python",
   "nbconvert_exporter": "python",
   "pygments_lexer": "ipython3",
   "version": "3.9.13"
  }
 },
 "nbformat": 4,
 "nbformat_minor": 5
}
