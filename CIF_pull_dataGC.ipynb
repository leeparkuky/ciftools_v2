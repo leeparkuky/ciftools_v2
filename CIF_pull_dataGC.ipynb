{
 "cells": [
  {
   "cell_type": "markdown",
   "metadata": {
    "id": "-m-IXs4afdm4"
   },
   "source": [
    "# CIFTools Google Colab Runtime\n",
    "\n",
    "The following will allow you to pull data from several Federal data sources and filter them to your catchment area or other geographic area of interest.\n",
    "\n",
    "To begin, you will need to install or upgrade some modules on your Google Colab runtime. This only needs to be done the first time you run this on each visit. \n",
    "\n",
    "*After successful completion you may want to clear the terminal to reduce clutter*."
   ]
  },
  {
   "cell_type": "markdown",
   "metadata": {
    "id": "ER88kcaef3Ef"
   },
   "source": [
    "Next, you will need to upload the `ciftools_v2-main.zip`.    \n",
    "\n",
    "Then executing `unzip`, all the files for the CIFTools will be set-up and ready-to-use in the `ciftools_v2-main` folder.    \n",
    "Within the `ciftools_v2-main`, there are not only the `CIFTools.py` module and all the catchment area csv files within the `catment_area` folder."
   ]
  },
  {
   "cell_type": "code",
   "execution_count": null,
   "metadata": {
    "id": "M7W8q5EnaEyI"
   },
   "outputs": [],
   "source": [
    "### upload CIFToolsGC.py and your catchment area file\n",
    "\n",
    "from google.colab import files\n",
    "files.upload()"
   ]
  },
  {
   "cell_type": "markdown",
   "metadata": {},
   "source": [
    "Now we will change the working directory for both terminal and python kernel within the notebook."
   ]
  },
  {
   "cell_type": "code",
   "execution_count": 25,
   "metadata": {},
   "outputs": [],
   "source": [
    "!unzip ciftools_v2-main.zip"
   ]
  },
  {
   "cell_type": "code",
   "execution_count": 26,
   "metadata": {
    "scrolled": true
   },
   "outputs": [],
   "source": [
    "import os\n",
    "os.chdir(os.path.join(os.getcwd(), 'ciftools_v2-main'))\n",
    "%pip install -r requirements.txt\n",
    "from utils import write_bash_script"
   ]
  },
  {
   "cell_type": "code",
   "execution_count": 23,
   "metadata": {},
   "outputs": [
    {
     "name": "stdout",
     "output_type": "stream",
     "text": [
      "Requirement already satisfied: pandas in /Users/gradcheckout/opt/anaconda3/lib/python3.9/site-packages (1.4.4)\n",
      "Requirement already satisfied: python-dateutil>=2.8.1 in /Users/gradcheckout/opt/anaconda3/lib/python3.9/site-packages (from pandas) (2.8.2)\n",
      "Requirement already satisfied: pytz>=2020.1 in /Users/gradcheckout/opt/anaconda3/lib/python3.9/site-packages (from pandas) (2022.1)\n",
      "Requirement already satisfied: numpy>=1.18.5 in /Users/gradcheckout/opt/anaconda3/lib/python3.9/site-packages (from pandas) (1.21.5)\n",
      "Requirement already satisfied: six>=1.5 in /Users/gradcheckout/opt/anaconda3/lib/python3.9/site-packages (from python-dateutil>=2.8.1->pandas) (1.16.0)\n"
     ]
    },
    {
     "data": {
      "text/plain": [
       "CompletedProcess(args=['pip', 'install', 'pandas'], returncode=0)"
      ]
     },
     "execution_count": 23,
     "metadata": {},
     "output_type": "execute_result"
    }
   ],
   "source": [
    "from glob import glob\n",
    "import os\n",
    "# in this demo we use uky_ca.edu which is for Markey Cancer Center\n",
    "ca_file_path = os.path.join(os.getcwd(), glob('*/uky_ca.csv')[0])"
   ]
  },
  {
   "cell_type": "code",
   "execution_count": null,
   "metadata": {},
   "outputs": [],
   "source": [
    "bash_script_kwargs = {\n",
    "    \"bash_file_name\" : 'googleColabmain.sh', #the name of a bash file to run\n",
    "    \"catchment_area_name\": \"Markey Cancer Center\", # the name of the catchment area name\n",
    "    \"ca_file_path\": ca_file_path,\n",
    "    \"\"\n",
    "}"
   ]
  },
  {
   "cell_type": "code",
   "execution_count": 21,
   "metadata": {},
   "outputs": [],
   "source": [
    "write_bash_script('googleColabMain.sh',\n",
    "                  'markey', \n",
    "                  ca_file_path ,\n",
    "                  ['county','tract'], \n",
    "                  2019, \n",
    "                  ['pickle','csv','excel'], \n",
    "                  'f1a4c4de1f35fe90fc1ceb60fd97b39c9a96e436')    "
   ]
  },
  {
   "cell_type": "code",
   "execution_count": null,
   "metadata": {},
   "outputs": [],
   "source": [
    "!bash googleColabMain.sh"
   ]
  }
 ],
 "metadata": {
  "colab": {
   "collapsed_sections": [],
   "provenance": []
  },
  "kernelspec": {
   "display_name": "Python 3 (ipykernel)",
   "language": "python",
   "name": "python3"
  },
  "language_info": {
   "codemirror_mode": {
    "name": "ipython",
    "version": 3
   },
   "file_extension": ".py",
   "mimetype": "text/x-python",
   "name": "python",
   "nbconvert_exporter": "python",
   "pygments_lexer": "ipython3",
   "version": "3.9.13"
  }
 },
 "nbformat": 4,
 "nbformat_minor": 1
}
