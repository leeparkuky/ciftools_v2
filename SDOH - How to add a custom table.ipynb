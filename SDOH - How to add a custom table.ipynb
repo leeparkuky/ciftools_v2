{
 "cells": [
  {
   "cell_type": "code",
   "execution_count": 1,
   "id": "c4dc5ade",
   "metadata": {},
   "outputs": [],
   "source": [
    "from sdoh import *\n",
    "s = sdoh(2019, 21, 'county', key)"
   ]
  },
  {
   "cell_type": "code",
   "execution_count": 2,
   "id": "01eb776a",
   "metadata": {},
   "outputs": [
    {
     "name": "stdout",
     "output_type": "stream",
     "text": [
      "{'year': 2019, 'state_fips': 21, 'query_level': 'county', 'acs_group': 'B01001', 'acs_type': ''}\n"
     ]
    }
   ],
   "source": [
    "@s.add_custom_table('B01001', '', 'custom')\n",
    "def transform_df(df):\n",
    "    return df"
   ]
  },
  {
   "cell_type": "code",
   "execution_count": 3,
   "id": "e517d361",
   "metadata": {},
   "outputs": [
    {
     "data": {
      "text/plain": [
       "{'custom':                           NAME state county B01001_001E B01001_002E  \\\n",
       " 0     Garrard County, Kentucky    21    079       17445        8506   \n",
       " 1    Campbell County, Kentucky    21    037       92861       45407   \n",
       " 2     Elliott County, Kentucky    21    063        7510        4269   \n",
       " 3       Larue County, Kentucky    21    123       14204        7005   \n",
       " 4      Mercer County, Kentucky    21    167       21592       10617   \n",
       " ..                         ...   ...    ...         ...         ...   \n",
       " 115     Clark County, Kentucky    21    049       35971       17561   \n",
       " 116      Todd County, Kentucky    21    219       12316        6087   \n",
       " 117   Carroll County, Kentucky    21    041       10671        5466   \n",
       " 118   Clinton County, Kentucky    21    053       10193        5093   \n",
       " 119  Gallatin County, Kentucky    21    077        8737        4491   \n",
       " \n",
       "     B01001_003E B01001_004E B01001_005E B01001_006E B01001_007E  ...  \\\n",
       " 0           532         590         615         323         170  ...   \n",
       " 1          2744        2768        2696        1747        1438  ...   \n",
       " 2           191         226         167         146          54  ...   \n",
       " 3           415         500         365         330         143  ...   \n",
       " 4           667         725         720         432         167  ...   \n",
       " ..          ...         ...         ...         ...         ...  ...   \n",
       " 115        1255        1097        1263         689         347  ...   \n",
       " 116         426         477         436         272         122  ...   \n",
       " 117         393         491         327         180          26  ...   \n",
       " 118         316         248         409         231         145  ...   \n",
       " 119         325         252         380         244         117  ...   \n",
       " \n",
       "     B01001_040E B01001_041E B01001_042E B01001_043E B01001_044E B01001_045E  \\\n",
       " 0           734         684         247         435         339         323   \n",
       " 1          3256        3371        1417        1920         914        1479   \n",
       " 2           225         242          46         178         117         144   \n",
       " 3           563         536         181         332         126         301   \n",
       " 4           853         821         368         436         256         526   \n",
       " ..          ...         ...         ...         ...         ...         ...   \n",
       " 115        1323        1274         571         746         479         577   \n",
       " 116         387         416         119         283         135         138   \n",
       " 117         337         445          66         159         133         167   \n",
       " 118         349         412         126         204          88         201   \n",
       " 119         337         316         117         164          48         184   \n",
       " \n",
       "     B01001_046E B01001_047E B01001_048E B01001_049E  \n",
       " 0           320         337         180         252  \n",
       " 1          1982        1349        1135        1091  \n",
       " 2           145         148          96          90  \n",
       " 3           285         256         227         157  \n",
       " 4           517         346         386         235  \n",
       " ..          ...         ...         ...         ...  \n",
       " 115         962         595         386         486  \n",
       " 116         299         243          85         144  \n",
       " 117         208         169          78         123  \n",
       " 118         274         220         151         115  \n",
       " 119         149          99          67          66  \n",
       " \n",
       " [120 rows x 52 columns]}"
      ]
     },
     "execution_count": 3,
     "metadata": {},
     "output_type": "execute_result"
    }
   ],
   "source": [
    "s.download_all()"
   ]
  }
 ],
 "metadata": {
  "kernelspec": {
   "display_name": "Python 3 (ipykernel)",
   "language": "python",
   "name": "python3"
  },
  "language_info": {
   "codemirror_mode": {
    "name": "ipython",
    "version": 3
   },
   "file_extension": ".py",
   "mimetype": "text/x-python",
   "name": "python",
   "nbconvert_exporter": "python",
   "pygments_lexer": "ipython3",
   "version": "3.9.13"
  }
 },
 "nbformat": 4,
 "nbformat_minor": 5
}
